{
 "cells": [
  {
   "cell_type": "markdown",
   "metadata": {},
   "source": [
    "A cellular automaton (CA) is a model of a world with simple physics. The world is divided into discrete chunks (\"cells\"). An automaton is a machine that performs computations. It could be a real machine or a mathematical abstraction or computer simulation."
   ]
  },
  {
   "cell_type": "markdown",
   "metadata": {},
   "source": [
    "<b>5.1: A simple CA </b> <br>\n",
    "\n",
    "Rules govern how CAs evolve in time, which is divided into discrete steps. Rules specify how to compute the state of the world during next time step based on the current state. \n",
    "\n",
    "Trivial example: A CA with a single cell. The state of the cell is an integer with the variable $x_i$, where $i$ indiciates the time step. Initial condition: $x_0 = 0$. \n",
    "\n",
    "Now give it a rule: $x_i = x_{i-1} +1$. This says that after each time step, the state of the CA is incremented by 1. This CA performs a simple calculation: counting.\n",
    "\n",
    "But this CA is atypical. But normally the number of possible of states is finite. Say we choose the smallest interesting number of states, 2, and another simple rule, $x_i = (x_{i-1} + 1) \\% 2$, where $\\%$ is the remainder/modulus operator.\n",
    "\n",
    "This CA blinks. The state of the cell switches between 0 and 1 after every time step.\n",
    "\n",
    "Most CAs are deterministic: Rules do not have any random elements. Given the same initial state, they always produce the same result. "
   ]
  },
  {
   "cell_type": "markdown",
   "metadata": {},
   "source": [
    "<b> 5.2 Wolfram's experiment </b>\n",
    "\n",
    "Before, the CA with one cell is zero-dimensional. Now, we explore 1-D CAs.\n",
    "\n"
   ]
  }
 ],
 "metadata": {
  "kernelspec": {
   "display_name": "Python 3",
   "language": "python",
   "name": "python3"
  },
  "language_info": {
   "codemirror_mode": {
    "name": "ipython",
    "version": 3
   },
   "file_extension": ".py",
   "mimetype": "text/x-python",
   "name": "python",
   "nbconvert_exporter": "python",
   "pygments_lexer": "ipython3",
   "version": "3.6.4"
  }
 },
 "nbformat": 4,
 "nbformat_minor": 2
}
