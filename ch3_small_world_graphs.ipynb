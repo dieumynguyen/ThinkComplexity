{
 "cells": [
  {
   "cell_type": "markdown",
   "metadata": {},
   "source": [
    "Small world property: the average distance between nodes, measured in number of edges on the shortest path, is very small.\n",
    "\n",
    "2 graph algorithms: bread-first search (BFS) & Dijkstra’s algorithm for computing the shortest path between nodes in a graph."
   ]
  },
  {
   "cell_type": "markdown",
   "metadata": {},
   "source": [
    "### 3.1 Stanley Milgram's small world experiment"
   ]
  },
  {
   "cell_type": "markdown",
   "metadata": {},
   "source": [
    "Assertion: the typical distance between any two people in a social network is about “six degrees of separation.” "
   ]
  },
  {
   "cell_type": "markdown",
   "metadata": {},
   "source": [
    "### 3.2 Watts and Strogatz small world networks"
   ]
  },
  {
   "cell_type": "markdown",
   "metadata": {},
   "source": [
    "2 properties of random graphs (nodes connected at random) & regular graphs (every node has the same number of neighbors): clustering & path length.\n",
    "\n",
    "- Clustering: measure of the \"cliquishness\" of the graph. A clique is a subset of nodes that are all connected to each other. Watts & Strogatz defined a clustering coefficient that quantifies the likelihood that 2 nodes that are connected to the same node are also connected to each other.\n",
    "\n",
    "- Path length: measure of the average distance between 2 nodes, which corresponds to the degrees of separation in a social network.\n",
    "\n",
    "Regular graphs have high clutering & high path lengths, and the opposite for random graphs. Neither seems to be a good model of social networks, which combine high clutering with short path lengths. \n",
    "\n",
    "Their goal: create a generative model of a social network. Proposed process for building small-world graphs: \n",
    "\n",
    "1. Start with a regular graph with n nodes & each node is connected to k neighbors.\n",
    "2. Choose a subset of the edges and \"rewire\" them by replacing them with random edges. \n",
    "\n",
    "The probability that an edge is rewired is a parameter, p, that controls how random the graph is. When p = 0, the graph is regular; when p = 1, it's random. \n",
    "\n",
    "Results: \n",
    "Small values of p give graphs with high clustering, like a regular graph, and low path lengths, like a random graph. \n",
    "\n",
    "Replicate this Watts & Strogatz experiment:\n",
    "1. Contruct a ring lattice (a regular graph) with params n and k.\n",
    "2. Rewire it.\n",
    "3. Measure the degree of clutering & compute path lengths.\n",
    "4. Compute degree of clustering & path length for a range of p values.\n",
    "5. Dijkstra’s algorithm, which computes shortest paths efficiently."
   ]
  },
  {
   "cell_type": "code",
   "execution_count": 1,
   "metadata": {},
   "outputs": [
    {
     "ename": "SyntaxError",
     "evalue": "invalid syntax (<ipython-input-1-8cf8463b34ca>, line 1)",
     "output_type": "error",
     "traceback": [
      "\u001b[0;36m  File \u001b[0;32m\"<ipython-input-1-8cf8463b34ca>\"\u001b[0;36m, line \u001b[0;32m1\u001b[0m\n\u001b[0;31m    .\u001b[0m\n\u001b[0m    ^\u001b[0m\n\u001b[0;31mSyntaxError\u001b[0m\u001b[0;31m:\u001b[0m invalid syntax\n"
     ]
    }
   ],
   "source": []
  },
  {
   "cell_type": "code",
   "execution_count": null,
   "metadata": {
    "collapsed": true
   },
   "outputs": [],
   "source": []
  }
 ],
 "metadata": {
  "kernelspec": {
   "display_name": "Python 3",
   "language": "python",
   "name": "python3"
  },
  "language_info": {
   "codemirror_mode": {
    "name": "ipython",
    "version": 3
   },
   "file_extension": ".py",
   "mimetype": "text/x-python",
   "name": "python",
   "nbconvert_exporter": "python",
   "pygments_lexer": "ipython3",
   "version": "3.6.2"
  }
 },
 "nbformat": 4,
 "nbformat_minor": 2
}
